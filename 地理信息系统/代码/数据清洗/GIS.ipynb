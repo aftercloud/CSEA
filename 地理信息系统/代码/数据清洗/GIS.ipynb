{
 "cells": [
  {
   "cell_type": "code",
   "execution_count": 1,
   "metadata": {},
   "outputs": [],
   "source": [
    "import pandas as pd"
   ]
  },
  {
   "cell_type": "code",
   "execution_count": 2,
   "metadata": {},
   "outputs": [],
   "source": [
    "wuhan_cars_csv = pd.read_csv('wuhan_GPS3Day/20140507.csv', encoding = 'gb18030', delimiter=\"\\t\", header=None)[0].tolist()"
   ]
  },
  {
   "cell_type": "code",
   "execution_count": 6,
   "metadata": {},
   "outputs": [],
   "source": [
    "wuhan_cars = pd.DataFrame()\n",
    "cac = [[], [], [], [], [], [], [], []]\n",
    "locate = 0\n",
    "for value in wuhan_cars_csv:\n",
    "    value_list = value.split(',')\n",
    "    if 113.41 <= float(value_list[2]) <= 115.05 and 29.58 <= float(value_list[3]) <= 31.22:\n",
    "        cac[0].append(value_list[0])\n",
    "        cac[1].append(value_list[1])\n",
    "        cac[2].append(value_list[2])\n",
    "        cac[3].append(value_list[3])\n",
    "        cac[4].append(value_list[4])\n",
    "        cac[5].append(value_list[5])\n",
    "        if 'ACC开' in value_list:\n",
    "            cac[6].append(1)\n",
    "        else:\n",
    "            cac[6].append(0)\n",
    "        if '空车' in value_list:\n",
    "            cac[7].append(0)\n",
    "        else:\n",
    "            cac[7].append(1)\n",
    "        locate += 1\n",
    "wuhan_cars.insert(0, 'mark', cac[0])\n",
    "wuhan_cars.insert(1, 'time', cac[1])\n",
    "wuhan_cars.insert(2, 'lng', cac[2])\n",
    "wuhan_cars.insert(3, 'lat', cac[3])\n",
    "wuhan_cars.insert(4, 'd', cac[4])\n",
    "wuhan_cars.insert(5, 'v', cac[5])\n",
    "wuhan_cars.insert(6, 'acc', cac[6])\n",
    "wuhan_cars.insert(7, 'heavy', cac[7])\n",
    "wuhan_cars.to_csv('taxi.csv', index=0)"
   ]
  },
  {
   "cell_type": "code",
   "execution_count": null,
   "metadata": {},
   "outputs": [],
   "source": []
  }
 ],
 "metadata": {
  "kernelspec": {
   "display_name": "Python 3",
   "language": "python",
   "name": "python3"
  },
  "language_info": {
   "codemirror_mode": {
    "name": "ipython",
    "version": 3
   },
   "file_extension": ".py",
   "mimetype": "text/x-python",
   "name": "python",
   "nbconvert_exporter": "python",
   "pygments_lexer": "ipython3",
   "version": "3.7.1"
  }
 },
 "nbformat": 4,
 "nbformat_minor": 2
}
